{
 "cells": [
  {
   "cell_type": "code",
   "execution_count": 9,
   "id": "2748b261",
   "metadata": {},
   "outputs": [
    {
     "name": "stdout",
     "output_type": "stream",
     "text": [
      "Size: 10554b - File: .\\JSON Practice.ipynb\n",
      "Size: 2345b - File: .\\Week 2 Lab.ipynb\n",
      "Size: 3673958b - File: .\\white-wine-ratings.json\n",
      "Size: 13486069b - File: .\\wine-ratings.csv\n",
      "Size: 10554b - File: .\\.ipynb_checkpoints\\JSON Practice-checkpoint.ipynb\n",
      "Size: 72b - File: .\\.ipynb_checkpoints\\Week 2 Lab-checkpoint.ipynb\n"
     ]
    }
   ],
   "source": [
    "import os\n",
    "\n",
    "file_metadata = {}\n",
    "for root, directories, files in os.walk('.'):\n",
    "    for _file in files:\n",
    "        full_path = os.path.join(root, _file)\n",
    "        size = os.path.getsize(full_path)\n",
    "        file_metadata[full_path] = size\n",
    "        print(f\"Size: {size}b - File: {full_path}\")"
   ]
  },
  {
   "cell_type": "code",
   "execution_count": 10,
   "id": "276712db",
   "metadata": {},
   "outputs": [
    {
     "name": "stdout",
     "output_type": "stream",
     "text": [
      "Size: 10554b - File: .\\JSON Practice.ipynb\n",
      "Size: 2345b - File: .\\Week 2 Lab.ipynb\n",
      "Size: 3673958b - File: .\\white-wine-ratings.json\n"
     ]
    }
   ],
   "source": [
    "items_shown = 0\n",
    "for root, directories, files in os.walk('.'):\n",
    "    for _file in files:\n",
    "        full_path = os.path.join(root, _file)\n",
    "        size = os.path.getsize(full_path)\n",
    "        if items_shown>2:\n",
    "            break\n",
    "        print(f\"Size: {size}b - File: {full_path}\")\n",
    "        items_shown += 1"
   ]
  },
  {
   "cell_type": "code",
   "execution_count": 11,
   "id": "9a0c20b3",
   "metadata": {},
   "outputs": [
    {
     "name": "stdout",
     "output_type": "stream",
     "text": [
      "{'.\\\\JSON Practice.ipynb': 10554, '.\\\\Week 2 Lab.ipynb': 2345, '.\\\\white-wine-ratings.json': 3673958, '.\\\\wine-ratings.csv': 13486069, '.\\\\.ipynb_checkpoints\\\\JSON Practice-checkpoint.ipynb': 10554, '.\\\\.ipynb_checkpoints\\\\Week 2 Lab-checkpoint.ipynb': 72}\n"
     ]
    }
   ],
   "source": [
    "print(file_metadata)"
   ]
  },
  {
   "cell_type": "code",
   "execution_count": 19,
   "id": "3e8c3179",
   "metadata": {},
   "outputs": [
    {
     "name": "stdout",
     "output_type": "stream",
     "text": [
      ".\\JSON Practice.ipynb\n",
      ".\\white-wine-ratings.json\n",
      ".\\wine-ratings.csv\n",
      ".\\.ipynb_checkpoints\\JSON Practice-checkpoint.ipynb\n"
     ]
    }
   ],
   "source": [
    "for path, size in file_metadata.items():\n",
    "    if size > 10000:\n",
    "        print(path)"
   ]
  },
  {
   "cell_type": "code",
   "execution_count": null,
   "id": "4773233c",
   "metadata": {},
   "outputs": [],
   "source": []
  }
 ],
 "metadata": {
  "kernelspec": {
   "display_name": "Python 3",
   "language": "python",
   "name": "python3"
  },
  "language_info": {
   "codemirror_mode": {
    "name": "ipython",
    "version": 3
   },
   "file_extension": ".py",
   "mimetype": "text/x-python",
   "name": "python",
   "nbconvert_exporter": "python",
   "pygments_lexer": "ipython3",
   "version": "3.8.8"
  }
 },
 "nbformat": 4,
 "nbformat_minor": 5
}
